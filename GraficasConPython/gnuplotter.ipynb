{
 "nbformat": 4,
 "nbformat_minor": 2,
 "metadata": {
  "language_info": {
   "name": "python",
   "codemirror_mode": {
    "name": "ipython",
    "version": 3
   },
   "version": "3.7.6-final"
  },
  "orig_nbformat": 2,
  "file_extension": ".py",
  "mimetype": "text/x-python",
  "name": "python",
  "npconvert_exporter": "python",
  "pygments_lexer": "ipython3",
  "version": 3,
  "kernelspec": {
   "name": "python3",
   "display_name": "Python 3"
  }
 },
 "cells": [
  {
   "cell_type": "code",
   "execution_count": 1,
   "metadata": {},
   "outputs": [
    {
     "output_type": "error",
     "ename": "ModuleNotFoundError",
     "evalue": "No module named 'gnuplot'",
     "traceback": [
      "\u001b[0;31m---------------------------------------------------------------------------\u001b[0m",
      "\u001b[0;31mModuleNotFoundError\u001b[0m                       Traceback (most recent call last)",
      "\u001b[0;32m<ipython-input-1-74060d7e3a7b>\u001b[0m in \u001b[0;36m<module>\u001b[0;34m\u001b[0m\n\u001b[1;32m      2\u001b[0m \u001b[0;32mimport\u001b[0m \u001b[0mnumpy\u001b[0m \u001b[0;32mas\u001b[0m \u001b[0mnp\u001b[0m\u001b[0;34m\u001b[0m\u001b[0;34m\u001b[0m\u001b[0m\n\u001b[1;32m      3\u001b[0m \u001b[0;32mimport\u001b[0m \u001b[0mmatplotlib\u001b[0m\u001b[0;34m.\u001b[0m\u001b[0mpyplot\u001b[0m \u001b[0;32mas\u001b[0m \u001b[0mplt\u001b[0m\u001b[0;34m\u001b[0m\u001b[0;34m\u001b[0m\u001b[0m\n\u001b[0;32m----> 4\u001b[0;31m \u001b[0;32mimport\u001b[0m \u001b[0mgnuplot\u001b[0m\u001b[0;34m\u001b[0m\u001b[0;34m\u001b[0m\u001b[0m\n\u001b[0m\u001b[1;32m      5\u001b[0m \u001b[0;32mimport\u001b[0m \u001b[0mre\u001b[0m\u001b[0;34m\u001b[0m\u001b[0;34m\u001b[0m\u001b[0m\n\u001b[1;32m      6\u001b[0m \u001b[0;34m\u001b[0m\u001b[0m\n",
      "\u001b[0;31mModuleNotFoundError\u001b[0m: No module named 'gnuplot'"
     ]
    }
   ],
   "source": [
    "#!/usr/local/bin/python\n",
    "import numpy as np\n",
    "import matplotlib.pyplot as plt \n",
    "import gnuplot\n",
    "import re\n",
    "\n",
    "class Grafica:\n",
    "    def __init__(self, cadena):\n",
    "        self.g = plt\n",
    "        self.g.title(\"Mi gráfica\")\n",
    "        self.hash = {}\n",
    "        self.cadena = cadena\n",
    "\n",
    "    def cargaDatos(self, fichero):\n",
    "        archivo = open(fichero, \"r\")\n",
    "        self.hash = {}\n",
    "        expr = re.compile(self.cadena)\n",
    "        for linea in archivo:\n",
    "            if re.search(expr, linea):\n",
    "                lista = linea.split(' ')\n",
    "                fecha = lista[0] + ' ' + lista[1]\n",
    "                if not self.hash.has_key(fecha):\n",
    "                    self.hash[fecha] = 1\n",
    "                else: \n",
    "                    self.hash[fecha] = self.hash[fecha] + 1\n",
    "        archivo.close()\n",
    "    def dibuja(self):\n",
    "        llaves = self.hash.keys()\n",
    "        sorted(llaves)\n",
    "        etiquetas = \"set xtics (\" \n",
    "        i = 0\n",
    "        lista = []\n",
    "        for llave in llaves:\n",
    "            etiquetas = etiquetas + \"\\\"\" + llave + \"\\\"\" + str(i) + \" ,\"\n",
    "            lista.append([self.hash[llave], i])\n",
    "            i = i + 1\n",
    "            etiquetas = etiquetas + \"\\\"fin\\\"\" + str(i) + \")\"\n",
    "        #self.g(etiquetas)\n",
    "        self.g.plot(lista)\n",
    "\n",
    "if __name__ == \"__main__\":\n",
    "    g = Grafica('ssh')\n",
    "    g.cargaDatos('/home/uriel/Documents/CUCEI/estadistica/GraficasConPython/prueba.txt')\n",
    "    g.dibuja()\n",
    "\n",
    ""
   ]
  },
  {
   "cell_type": "code",
   "execution_count": null,
   "metadata": {},
   "outputs": [],
   "source": []
  }
 ]
}