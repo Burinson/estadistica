{
 "cells": [
  {
   "cell_type": "code",
   "execution_count": null,
   "metadata": {},
   "outputs": [],
   "source": [
    "Jesús Uriel Guzmán Mendoza\n",
    "\n",
    "Distribución binomial\n",
    "\n",
    "$ \\large {b(x;n;p)} = {n \\choose x } {P^x(1-p)^(n-x)}) $\n",
    "\n",
    "En estadística, la distribución binomial es una distribución de probabilidad discreta que cuenta el número de éxitos en una secuencia de n ensayos de Bernoulli independientes entre sí, con una probabilidad fija p de ocurrencia del éxito entre los ensayos."
   ]
  },
  {
   "cell_type": "code",
   "execution_count": 7,
   "metadata": {},
   "outputs": [],
   "source": [
    "from math import *\n",
    "from scipy.integrate import quad\n",
    "import numpy as np\n",
    "\n",
    "def choose(n, k):\n",
    "    # escoger k objetos en n\n",
    "    return factorial(n) / (factorial(n - k) * factorial(k))\n",
    "\n",
    "def binom(x, n, p):\n",
    "    # n: cantidad de veces que se repite el experimento \n",
    "    # p: probabilidad de tener un éxito o fracaso\n",
    "    # x: probabiliad de queremos calcular\n",
    "    return choose(n, x) * p**x * (1 - p)**(n - x)\n"
   ]
  },
  {
   "cell_type": "markdown",
   "metadata": {},
   "source": [
    "Ejemplo:\n",
    "\n",
    "Un jugador encesta con probabilidad 0.55. Calcula la probabilidad de que al tirar 6 veces enceste:\n",
    "\n",
    "a) 4 veces\n",
    "\n",
    "b) todas las veces\n",
    "    \n",
    "c) ninguna vez"
   ]
  },
  {
   "cell_type": "code",
   "execution_count": 6,
   "metadata": {},
   "outputs": [
    {
     "output_type": "stream",
     "name": "stdout",
     "text": "La probabilidad de encestar 4 veces: 0.2780\nLa probabilidad de encestar todas las veces: 0.0277\nLa probabilidad de encestar ninguna vez: 0.0083\n"
    }
   ],
   "source": [
    "p = 0.55 # probabilidad de encestar una vez\n",
    "n = 6    # número de experimentos a realizar\n",
    "\n",
    "print(\"La probabilidad de encestar 4 veces: %.4f\" % binom(4, n, p)) # P(x = 4)\n",
    "print(\"La probabilidad de encestar todas las veces: %.4f\" % binom(n, n, p)) # P(x = n)\n",
    "print(\"La probabilidad de encestar ninguna vez: %.4f\" % binom(0, n, p)) # P(x = 0)"
   ]
  },
  {
   "cell_type": "markdown",
   "metadata": {},
   "source": [
    "Distribución acumulada\n",
    "\n",
    "$ \\large F(X≤x)=B(x,n,p) = \\sum_{y=0}^{x} B(y,n,p) = \\sum_{y=0}^{x} {n \\choose y} p^y(1-p)^{(n-y)} $\n",
    "\n",
    "La función de distribución acumulada (CDF) calcula la probabilidad acumulada de un valor dado de x. Utilice la CDF para determinar la probabilidad de que una observación aleatoria que se toma de la población sea menor que o igual a cierto valor. También puede usar esta información para determinar la probabilidad de que una observación sea mayor que cierto valor o se encuentre entre dos valores."
   ]
  },
  {
   "cell_type": "code",
   "execution_count": 57,
   "metadata": {},
   "outputs": [],
   "source": [
    "def binomAcum(x1, x2, n, p):\n",
    "    #x1: principio de la distribución acumulada\n",
    "    #x2: fin de la distribución acumulada\n",
    "    #n: número de experimentos realizados\n",
    "    #p: probabilidad de éxito o fracaso\n",
    "    tot = 0\n",
    "    for x in range(x1, x2 + 1):\n",
    "        tot = tot + binom(x, n, p) # se acumulan todas las distribuciones binomiales con el ciclo\n",
    "    return tot\n"
   ]
  },
  {
   "cell_type": "markdown",
   "metadata": {},
   "source": [
    "Ejemplo\n",
    "\n",
    "La probabilidad de que el comprador de un osciloscopio haga uso del service dentro del plazo de garantía es 0.2. Para los 5 osciloscopios que cierta empresa ha vendido independientemente a 5 compradores este mes:\n",
    "\n",
    "a) ¿Cuál es la probabilidad de que 3 o más compradores hagan uso de la garantía?\n",
    "\n",
    "b) ¿Cuál es la probabilidad de que entre 2 y 4 compradores hagan uso de la garantía?"
   ]
  },
  {
   "cell_type": "code",
   "execution_count": 58,
   "metadata": {},
   "outputs": [
    {
     "name": "stdout",
     "output_type": "stream",
     "text": [
      "La probabilidad de que 3 o más compradores hagan uso de la garantía es de: 0.0579\n",
      "La probabilidad de que entre 2 y 4 compradores hagan uso de la garantía es de: 0.2624\n"
     ]
    }
   ],
   "source": [
    "n = 5 # cantidad de osciloscopios que la empresa ha vendido\n",
    "p = 0.2 # probabilidad de que el comprador haga uso del servicio durante el plazo de garantía\n",
    "\n",
    "print(\"La probabilidad de que 3 o más compradores hagan uso de la garantía es de: %.4f\" % (1 - binomAcum(0, 2, n, p))) # P(x >= 2)\n",
    "print(\"La probabilidad de que entre 2 y 4 compradores hagan uso de la garantía es de: %.4f\" % binomAcum(2, 4, n, p)) # P(2 <= x <= 4)"
   ]
  },
  {
   "cell_type": "markdown",
   "metadata": {},
   "source": [
    "Distribución hipergeométrica\n",
    "\n",
    "$ \\large {h(x, N, M, n)} = \\frac{{M \\choose x}{N - M \\choose n - M}}{N \\choose n} $\n",
    "\n",
    "En teoría de la probabilidad la distribución hipergeométrica es una distribución discreta relacionada con muestreos aleatorios y sin reemplazo. Suponga que se tiene una población de N elementos de los cuales, d pertenecen a la categoría A y N-d a la B. La distribución hipergeométrica mide la probabilidad de obtener 0 ≤ x ≤ d elementos de la categoría A en una muestra sin reemplazo de n elementos de la población original."
   ]
  },
  {
   "cell_type": "code",
   "execution_count": 59,
   "metadata": {},
   "outputs": [],
   "source": [
    "def hiper(x, N, M, n):\n",
    "    #x: número de éxitos en una muestra\n",
    "    #N: número total de objetos\n",
    "    #M: número de objetos seleccionados de N\n",
    "    #n: tamaño de la muestra\n",
    "    return (choose(M, x) * (choose(N - M, n - M))) / choose(N, n)\n",
    "\n",
    "def hiperAcum(x1, x2, N, M, n):\n",
    "    #x1: mínima probabilidad\n",
    "    #x2: máxima probabilidad\n",
    "    tot = 0\n",
    "    for x in range(x1, x2 + 1):\n",
    "        tot = tot + hiper(x, N, M, n)\n",
    "    return tot\n"
   ]
  },
  {
   "cell_type": "markdown",
   "metadata": {},
   "source": [
    "Ejemplo:\n",
    "\n",
    "Diez refrigeradores de cierto tipo han sido devueltos a un distribuidor debido a la presencia de un ruido oscilante agudo cuando el refrigerador está funcionando. Supongamos que 4 de estos 10 refrigeradores tienen compresores defectuosos y los otros 6 tienen problemas más leves. Si se examinan al azar 5 de estos 10 refrigeradores, y se define la variable aleatoria X: “el número entre los 5 examinados que tienen un compresor defectuoso”. Indicar:\n",
    "\n",
    "a) La probabilidad de que no todos tengan fallas leves\n",
    "\n",
    "b) La probabilidad de que a lo sumo dos tengan fallas de compresor\n",
    "\n",
    "c) La probabilidad de que entre 1 y 3 tengan fallas en el compresor"
   ]
  },
  {
   "cell_type": "code",
   "execution_count": 60,
   "metadata": {},
   "outputs": [
    {
     "name": "stdout",
     "output_type": "stream",
     "text": [
      "La probabilidad de que no todos tengan fallas leves es: 0.9762\n",
      "La probabilidad de que a lo sumo tres tengan fallas de compresor es: 0.2619\n",
      "La probabilidad de que entre 1 y 3 tengan fallas en el compresor es: 0.3333\n"
     ]
    }
   ],
   "source": [
    "N = 10 # número total de refrigeradores\n",
    "M = 4 # número de refrigeradores que tienen componentes defectuosos\n",
    "n = 5 # tamaño de la muestra\n",
    "\n",
    "print(\"La probabilidad de que no todos tengan fallas leves es: %.4f\" % (1 - hiper(0, N, M, n))) # P(x >= 1)\n",
    "print(\"La probabilidad de que a lo sumo tres tengan fallas de compresor es: %.4f\" % hiperAcum(0, 2, N, M, n)) # P(x <= 2)\n",
    "print(\"La probabilidad de que entre 1 y 3 tengan fallas en el compresor es: %.4f\" % hiperAcum(1, 3, N, M, n)) # P(1 <= x <= 3)"
   ]
  },
  {
   "cell_type": "markdown",
   "metadata": {},
   "source": [
    "Distribución binomial negativa\n",
    "\n",
    "$ \\large nB(x, n, p) = {x- 1 \\choose k - 1} {p^k(1 - p)^(x - k)} $\n",
    "\n",
    "Todo exponente que cumpla una de las siguientes 4 condiciones obedece a una distribución binomial negativa:\n",
    "\n",
    "1) El experimento consiste en una secuencia de ensayos individuales\n",
    "\n",
    "2) El ensayo da resultado de éxito o falla\n",
    "\n",
    "3) La probabilidad de éxito es constante de un ensayo a otro\n",
    "\n",
    "4) El experimento continúa hasta que un total de r éxitos hayan sido obtenidos, donde r es un número entero positivo esperado"
   ]
  },
  {
   "cell_type": "code",
   "execution_count": 42,
   "metadata": {},
   "outputs": [],
   "source": [
    "def binNeg(x, p, k):\n",
    "    #x: cantidad de veces que la probabilidad de éxitos es mayor a n\n",
    "    #p: probabilidad de tener un éxito o fracaso\n",
    "    #k: cantidad de éxitos\n",
    "    return choose(x - 1, k - 1) * p**k * (1 - p)**(x - k)\n",
    "\n",
    "def binNegAcum(x1, x2, n, p):\n",
    "    #x1: mínima probabilidad\n",
    "    #x2: máxima probabilidad\n",
    "    tot = 0\n",
    "    for x in range(x1, x2 + 1):\n",
    "        tot = tot + binNeg(x, n, p)\n",
    "    return tot\n"
   ]
  },
  {
   "cell_type": "markdown",
   "metadata": {},
   "source": [
    "Ejemplo:\n",
    "\n",
    "Los registros de una compañía constructora de pozos, indican que la probabilidad de que uno de sus pozos nuevos, requiera de reparaciones en el término de un año es de 0.20. \n",
    "\n",
    "a) ¿Cuál es la probabilidad de que el sexto pozo construido por esta compañía en un año dado sea el segundo en requerir reparaciones en un año?\n",
    "\n",
    "b) ¿Cuál es la probabilidad de que el octavo pozo construido por esta compañía en un año dado sea el tercero en requerir reparaciones en un año?"
   ]
  },
  {
   "cell_type": "code",
   "execution_count": 61,
   "metadata": {},
   "outputs": [
    {
     "name": "stdout",
     "output_type": "stream",
     "text": [
      "La probabilidad de que el sexto pozo construido por esta compañía en un año dado sea el segundo en requerir reparaciones en un año: 0.0819\n",
      "La probabilidad de que el octavo pozo construido por esta compañía en un año dado sea el tercero en requerir reparaciones en un año: 0.0551\n"
     ]
    }
   ],
   "source": [
    "x = 6 # número de pozos construidos\n",
    "p = 0.2 # probabilidad de que uno de sus pozos requiera reparación al término del año\n",
    "k = 2 # que sea el segundo en requerir reparaciones\n",
    "\n",
    "print(\"La probabilidad de que el sexto pozo construido por esta compañía en un año dado sea el segundo en requerir reparaciones en un año: %.4f\" % binNeg(x, p, k))\n",
    "\n",
    "x = 8 # número de pozos construidos\n",
    "k = 3 # que sea el segundo en requerir reparaciones\n",
    "\n",
    "print(\"La probabilidad de que el octavo pozo construido por esta compañía en un año dado sea el tercero en requerir reparaciones en un año: %.4f\" % binNeg(x, p, k))"
   ]
  },
  {
   "cell_type": "markdown",
   "metadata": {},
   "source": [
    "Distribución de Poisson\n",
    "\n",
    "$ \\large \\lambda = \\frac{n}{p} = np $\n",
    "\n",
    "$ \\large P(x, \\lambda) = \\frac{e^(-\\lambda)\\lambda^x}{x!} $\n",
    "\n",
    "En teoría de probabilidad y estadística, la distribución de Poisson es una distribución de probabilidad discreta que expresa, a partir de una frecuencia de ocurrencia media, la probabilidad de que ocurra un determinado número de eventos durante cierto período de tiempo. Concretamente, se especializa en la probabilidad de ocurrencia de sucesos con probabilidades muy pequeñas, o sucesos. "
   ]
  },
  {
   "cell_type": "code",
   "execution_count": 62,
   "metadata": {},
   "outputs": [],
   "source": [
    "def poisson(x, lam):\n",
    "    #x: variable que define el número de éxitos\n",
    "    #lam: relación que existe entre el número de éxitos y la frequencia en que estos ocurren\n",
    "    return (exp(-lam) * lam**x) / factorial(x)\n",
    " "
   ]
  },
  {
   "cell_type": "markdown",
   "metadata": {},
   "source": [
    "Ejemplo\n",
    "\n",
    "Si un banco recibe en promedio 6 cheques sin fondo por día, ¿cuáles son las probabilidades de que reciba, \n",
    "\n",
    "a) cuatro cheques sin fondo en un día dado, \n",
    "    \n",
    "b) 10 cheques sin fondos en cualquiera de dos días consecutivos?"
   ]
  },
  {
   "cell_type": "code",
   "execution_count": 63,
   "metadata": {},
   "outputs": [
    {
     "name": "stdout",
     "output_type": "stream",
     "text": [
      "La probabilidad de cuatro sin fondo en un día dado es: 0.1339\n",
      "La probabilidad de 10 cheques sin fondos en cualquiera de dos días consecutivos: 0.1048\n"
     ]
    }
   ],
   "source": [
    "# a)\n",
    "x = 4 # cantidad de cheques sin fondo en un día dado\n",
    "lam = 6 # cheques sin fondo que llegan por día\n",
    "\n",
    "print(\"La probabilidad de cuatro sin fondo en un día dado es: %.4f\" % poisson(x, lam))\n",
    "\n",
    "# b)\n",
    "x = 10 # cantidad de cheques sin fondo en un día dado\n",
    "lam = 2 * 6 # cheques sin fondo que llegan en dos días\n",
    "\n",
    "print(\"La probabilidad de 10 cheques sin fondos en cualquiera de dos días consecutivos: %.4f\" % poisson(x, lam))"
   ]
  },
  {
   "cell_type": "markdown",
   "metadata": {},
   "source": [
    "Distribución Gausseana\n",
    "\n",
    "$ \\large f(x, \\mu, \\sigma^2) = \\frac{e^(\\frac{-(x - \\mu)^2}{2 \\sigma^2})}{\\sqrt{2\\pi\\sigma^2}} $\n",
    "\n",
    "En estadística y probabilidad se llama distribución normal, distribución de Gauss, distribución gaussiana o distribución de Laplace-Gauss, a una de las distribuciones de probabilidad de variable continua que con más frecuencia aparece en estadística y en la teoría de probabilidades.\n",
    "\n",
    "La gráfica de su función de densidad tiene una forma acampanada y es simétrica respecto de un determinado parámetro estadístico. Esta curva se conoce como campana de Gauss y es el gráfico de una función gaussiana.\n",
    "\n",
    "La importancia de esta distribución radica en que permite modelar numerosos fenómenos naturales, sociales y psicológicos. ​Mientras que los mecanismos que subyacen a gran parte de este tipo de fenómenos son desconocidos, por la enorme cantidad de variables incontrolables que en ellos intervienen, el uso del modelo normal puede justificarse asumiendo que cada observación se obtiene como la suma de unas pocas causas independientes. \n"
   ]
  },
  {
   "cell_type": "code",
   "execution_count": 68,
   "metadata": {},
   "outputs": [],
   "source": [
    "def gauss(x, mu, sd):\n",
    "    # x: variable aleatoria\n",
    "    # mu: media\n",
    "    # sd: desviación estándar\n",
    "    return math.exp(-0.5 * (((x - mu) / sd)**2)) / (sd * math.sqrt(2 * math.pi)) \n",
    "\n",
    "def integ(x, mu, sd):\n",
    "    # integral definida en el rango [-inf, x] tomando en cuenta la función gauss(x, mu, sd)\n",
    "    return quad(gauss, -np.inf, x, args=(mu, sd))[0]\n",
    "\n",
    "def gaussAcum(x1, x2, mu, sd):\n",
    "    # calcula la integral desde [a, b] de la distribución gausseana\n",
    "    minProb = integ(x1, mu, sd) # integral de [-inf, x1] de gauss(x, mu, sd)\n",
    "    maxProb = integ(x2, mu, sd) # integral de [-inf, x2] de gauss(x, mu, sd)\n",
    "    return maxProb - minProb\n"
   ]
  },
  {
   "cell_type": "markdown",
   "metadata": {},
   "source": [
    "Ejemplo\n",
    "\n",
    "Un grupo grande de estudiantes tomaron un examen en física y los resultados finales tienen un promedio de 70 y una desviación estándar de 10. Si podemos aproximar la distribución de estas calificiaciones a una distribución normal, qué porcentaje de los estudiantes que:\n",
    "\n",
    "a) sacaron arriba de 80\n",
    "\n",
    "b) aprobaron (calificación >= 60)\n",
    "\n",
    "c) reprobaron (calificación menores a 60)\n",
    "    \n",
    "d) sacaron entre 60 y 80"
   ]
  },
  {
   "cell_type": "code",
   "execution_count": 67,
   "metadata": {},
   "outputs": [
    {
     "name": "stdout",
     "output_type": "stream",
     "text": [
      "Porcentaje de estudiantes que sacaron arriba de 80: 0.1587\n",
      "Porcentaje de estudiantes que sacaron arriba o igual de 60: 0.8413\n",
      "Porcentaje de estudiantes que sacaron abajo de 60: 0.1587\n",
      "Porcentaje de estudiantes que sacaron entre 60 y 80: 0.6827\n"
     ]
    }
   ],
   "source": [
    "mu = 70 # promedio de las calificaciones de todos los estudiantes\n",
    "sd = 10 # desviación estándar de las calificaciones\n",
    "\n",
    "print(\"Porcentaje de estudiantes que sacaron arriba de 80: %.4f\" % (1 - gaussAcum(0, 80, mu, sd))) # P(x > 80)\n",
    "print(\"Porcentaje de estudiantes que sacaron arriba o igual de 60: %.4f\" % (1 - gaussAcum(0, 60, mu, sd))) # P(x >= 60)\n",
    "print(\"Porcentaje de estudiantes que sacaron abajo de 60: %.4f\" % gaussAcum(0, 60, mu, sd)) # P(x < 60)\n",
    "print(\"Porcentaje de estudiantes que sacaron entre 60 y 80: %.4f\" % gaussAcum(60, 80, mu, sd)) # P(60 <= x <= 80)"
   ]
  },
  {
   "cell_type": "code",
   "execution_count": null,
   "metadata": {},
   "outputs": [],
   "source": []
  }
 ],
 "metadata": {
  "kernelspec": {
   "display_name": "Python 3",
   "language": "python",
   "name": "python3"
  },
  "language_info": {
   "codemirror_mode": {
    "name": "ipython",
    "version": 3
   },
   "file_extension": ".py",
   "mimetype": "text/x-python",
   "name": "python",
   "nbconvert_exporter": "python",
   "pygments_lexer": "ipython3",
   "version": "3.7.6-final"
  }
 },
 "nbformat": 4,
 "nbformat_minor": 2
}